{
  "nbformat": 4,
  "nbformat_minor": 0,
  "metadata": {
    "colab": {
      "provenance": [],
      "authorship_tag": "ABX9TyMwcRx2Avhj4MxvOrayemAf",
      "include_colab_link": true
    },
    "kernelspec": {
      "name": "python3",
      "display_name": "Python 3"
    },
    "language_info": {
      "name": "python"
    }
  },
  "cells": [
    {
      "cell_type": "markdown",
      "metadata": {
        "id": "view-in-github",
        "colab_type": "text"
      },
      "source": [
        "<a href=\"https://colab.research.google.com/github/luizmatii/Agrinho/blob/main/Untitled1.ipynb\" target=\"_parent\"><img src=\"https://colab.research.google.com/assets/colab-badge.svg\" alt=\"Open In Colab\"/></a>"
      ]
    },
    {
      "cell_type": "code",
      "execution_count": 1,
      "metadata": {
        "colab": {
          "base_uri": "https://localhost:8080/"
        },
        "id": "QNLf3O-FWpIa",
        "outputId": "b79ec793-b952-4739-9326-96c4ee439967"
      },
      "outputs": [
        {
          "output_type": "stream",
          "name": "stdout",
          "text": [
            "Bem-vindo ao jogo de adivinhação!\n",
            "Tente adivinhar o número secreto entre 1 e 100.\n",
            "Você tem 5 tentativas!\n",
            "\n",
            "Tentativa 1 de 5\n",
            "Digite seu palpite: 23\n",
            "O número secreto é MAIOR que o seu palpite.\n",
            "\n",
            "Tentativa 2 de 5\n",
            "Digite seu palpite: 41\n",
            "O número secreto é MAIOR que o seu palpite.\n",
            "\n",
            "Tentativa 3 de 5\n",
            "Digite seu palpite: 45\n",
            "O número secreto é MENOR que o seu palpite.\n",
            "\n",
            "Tentativa 4 de 5\n",
            "Digite seu palpite: 43\n",
            "O número secreto é MENOR que o seu palpite.\n",
            "\n",
            "Tentativa 5 de 5\n",
            "Digite seu palpite: 42\n",
            "Parabéns! Você acertou o número secreto!\n",
            "\n",
            "Fim do jogo!\n"
          ]
        }
      ],
      "source": [
        "# Número secreto definido por você\n",
        "numero_secreto = 42  # Você pode alterar este número para qualquer valor desejado\n",
        "\n",
        "print(\"Bem-vindo ao jogo de adivinhação!\")\n",
        "print(\"Tente adivinhar o número secreto entre 1 e 100.\")\n",
        "print(\"Você tem 5 tentativas!\")\n",
        "\n",
        "# Loop para as 5 tentativas\n",
        "for tentativa in range(1, 6):\n",
        "    print(f\"\\nTentativa {tentativa} de 5\")\n",
        "\n",
        "    # Solicita o palpite do usuário\n",
        "    try:\n",
        "        palpite = int(input(\"Digite seu palpite: \"))\n",
        "    except ValueError:\n",
        "        print(\"Por favor, digite um número válido!\")\n",
        "        continue\n",
        "\n",
        "    # Verifica se o usuário acertou\n",
        "    if palpite == numero_secreto:\n",
        "        print(\"Parabéns! Você acertou o número secreto!\")\n",
        "        break\n",
        "\n",
        "    # Dá dicas se o palpite foi maior ou menor\n",
        "    elif palpite < numero_secreto:\n",
        "        print(\"O número secreto é MAIOR que o seu palpite.\")\n",
        "    else:\n",
        "        print(\"O número secreto é MENOR que o seu palpite.\")\n",
        "\n",
        "    # Se for a última tentativa e ainda não acertou\n",
        "    if tentativa == 5:\n",
        "        print(f\"\\nQue pena! Você esgotou todas as tentativas.\")\n",
        "        print(f\"O número secreto era: {numero_secreto}\")\n",
        "\n",
        "print(\"\\nFim do jogo!\")"
      ]
    }
  ]
}